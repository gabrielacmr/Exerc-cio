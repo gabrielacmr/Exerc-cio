{
  "cells": [
    {
      "cell_type": "markdown",
      "metadata": {
        "id": "view-in-github",
        "colab_type": "text"
      },
      "source": [
        "<a href=\"https://colab.research.google.com/github/gabrielacmr/Exerc-cio/blob/main/Copy_of_Exercicio_2_Pandas.ipynb\" target=\"_parent\"><img src=\"https://colab.research.google.com/assets/colab-badge.svg\" alt=\"Open In Colab\"/></a>"
      ]
    },
    {
      "cell_type": "markdown",
      "id": "4d0c8c0f",
      "metadata": {
        "id": "4d0c8c0f"
      },
      "source": [
        "Para entender melhor os objetos DataFrame, é útil saber que eles consistem em três componentes, armazenados como atributos:\n",
        "\n",
        "- .values: Uma matriz bidimensional de valores.\n",
        "- .columns: Um índice de colunas: os nomes das colunas.\n",
        "- .index: Um índice para as linhas: números de linha ou nomes de linha."
      ]
    },
    {
      "cell_type": "markdown",
      "id": "79d97d27",
      "metadata": {
        "id": "79d97d27"
      },
      "source": [
        "##### Exercício 1 - Importe o dataset walmart_vendas.csv e salve com o nome vendas"
      ]
    },
    {
      "cell_type": "code",
      "execution_count": null,
      "id": "931a2e06",
      "metadata": {
        "id": "931a2e06"
      },
      "outputs": [],
      "source": [
        "import pandas as pd"
      ]
    },
    {
      "cell_type": "code",
      "execution_count": null,
      "id": "efefd93e",
      "metadata": {
        "id": "efefd93e"
      },
      "outputs": [],
      "source": []
    },
    {
      "cell_type": "markdown",
      "id": "644de564",
      "metadata": {
        "id": "644de564"
      },
      "source": [
        "##### Exercício 2 - Imprima as primeiras e as últimas linhas desse dataset"
      ]
    },
    {
      "cell_type": "code",
      "execution_count": null,
      "id": "38511fb7",
      "metadata": {
        "id": "38511fb7"
      },
      "outputs": [],
      "source": []
    },
    {
      "cell_type": "code",
      "execution_count": null,
      "id": "5cb78c34",
      "metadata": {
        "id": "5cb78c34"
      },
      "outputs": [],
      "source": []
    },
    {
      "cell_type": "markdown",
      "id": "522f61d3",
      "metadata": {
        "id": "522f61d3"
      },
      "source": [
        "##### Exercício 3 - Elimine a coluna \" Unnamed: 0\""
      ]
    },
    {
      "cell_type": "code",
      "execution_count": null,
      "id": "e3d301d7",
      "metadata": {
        "id": "e3d301d7"
      },
      "outputs": [],
      "source": []
    },
    {
      "cell_type": "code",
      "execution_count": null,
      "id": "ec785a56",
      "metadata": {
        "id": "ec785a56"
      },
      "outputs": [],
      "source": []
    },
    {
      "cell_type": "markdown",
      "id": "0e58ff2d",
      "metadata": {
        "id": "0e58ff2d"
      },
      "source": [
        "**Exercício 4 -Imprima os valores desse dataframe**"
      ]
    },
    {
      "cell_type": "code",
      "execution_count": null,
      "id": "3213749e",
      "metadata": {
        "id": "3213749e"
      },
      "outputs": [],
      "source": []
    },
    {
      "cell_type": "markdown",
      "id": "7804ace8",
      "metadata": {
        "id": "7804ace8"
      },
      "source": [
        "**Exercício 5 - Imprima as colunas desse dataframe**"
      ]
    },
    {
      "cell_type": "code",
      "execution_count": null,
      "id": "6f0c5e3d",
      "metadata": {
        "id": "6f0c5e3d"
      },
      "outputs": [],
      "source": []
    },
    {
      "cell_type": "markdown",
      "id": "abd0640e",
      "metadata": {
        "id": "abd0640e"
      },
      "source": [
        "**Exercício 6 - Imprima as linhas desse dataframe**"
      ]
    },
    {
      "cell_type": "code",
      "execution_count": null,
      "id": "784c4d1c",
      "metadata": {
        "id": "784c4d1c"
      },
      "outputs": [],
      "source": []
    },
    {
      "cell_type": "markdown",
      "id": "9a1f7e36",
      "metadata": {
        "id": "9a1f7e36"
      },
      "source": [
        "**Exercício 7  - Crie um novo dataframe classificando-o em ordem crescente pela coluna *weekly_sales***"
      ]
    },
    {
      "cell_type": "code",
      "execution_count": null,
      "id": "b8750560",
      "metadata": {
        "id": "b8750560"
      },
      "outputs": [],
      "source": []
    },
    {
      "cell_type": "markdown",
      "id": "558cfb52",
      "metadata": {
        "id": "558cfb52"
      },
      "source": [
        "**Exercício 8  - Veja as primeiras linhas desse novo dataframe:**"
      ]
    },
    {
      "cell_type": "code",
      "execution_count": null,
      "id": "79b714f8",
      "metadata": {
        "id": "79b714f8"
      },
      "outputs": [],
      "source": []
    },
    {
      "cell_type": "markdown",
      "id": "04a6d9f7",
      "metadata": {
        "id": "04a6d9f7"
      },
      "source": [
        "**Exercício 9 - Ordene o dataframe original pela coluna *temperature_c* em ordem decrescente e imprima as primeiras linhas**"
      ]
    },
    {
      "cell_type": "code",
      "execution_count": null,
      "id": "e74c8907",
      "metadata": {
        "id": "e74c8907"
      },
      "outputs": [],
      "source": [
        "\n"
      ]
    },
    {
      "cell_type": "markdown",
      "id": "0ad84c6e",
      "metadata": {
        "id": "0ad84c6e"
      },
      "source": [
        "**Exercício 10 -Selecione somente a  coluna *unemployment* salve com o nome subdf e veja as primeiras linhas**\n"
      ]
    },
    {
      "cell_type": "code",
      "execution_count": null,
      "id": "fa6952bc",
      "metadata": {
        "id": "fa6952bc"
      },
      "outputs": [],
      "source": []
    },
    {
      "cell_type": "markdown",
      "id": "3f8c20a5",
      "metadata": {
        "id": "3f8c20a5"
      },
      "source": [
        "**Exercício 11 -  Filtre por linhas os valores de weekly_sales forem maiores que 20000 e chame de weekly_sales_20k e imprima as primeiras linhas**  "
      ]
    },
    {
      "cell_type": "code",
      "execution_count": null,
      "id": "24e54bba",
      "metadata": {
        "id": "24e54bba"
      },
      "outputs": [],
      "source": []
    },
    {
      "cell_type": "code",
      "execution_count": null,
      "id": "ef4e9706",
      "metadata": {
        "id": "ef4e9706"
      },
      "outputs": [],
      "source": []
    }
  ],
  "metadata": {
    "kernelspec": {
      "display_name": "Python 3",
      "language": "python",
      "name": "python3"
    },
    "language_info": {
      "codemirror_mode": {
        "name": "ipython",
        "version": 3
      },
      "file_extension": ".py",
      "mimetype": "text/x-python",
      "name": "python",
      "nbconvert_exporter": "python",
      "pygments_lexer": "ipython3",
      "version": "3.8.8"
    },
    "colab": {
      "provenance": [],
      "include_colab_link": true
    }
  },
  "nbformat": 4,
  "nbformat_minor": 5
}